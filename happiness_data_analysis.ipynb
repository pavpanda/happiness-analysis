{
 "cells": [
  {
   "cell_type": "code",
   "execution_count": 94,
   "metadata": {},
   "outputs": [],
   "source": [
    "import numpy as np\n",
    "import pandas as pd\n",
    "import matplotlib.pyplot as plt"
   ]
  },
  {
   "cell_type": "code",
   "execution_count": 119,
   "metadata": {},
   "outputs": [],
   "source": [
    "def read_and_preprocess(file_name, columns_to_drop, crucial_na_columns):\n",
    "    df = pd.read_csv(file_name)\n",
    "    df.dropna(subset = crucial_na_columns, inplace=True)\n",
    "    df = df.drop(columns=columns_to_drop)\n",
    "    return df\n",
    "\n",
    "def extract_country_row(df, country_name):\n",
    "    df.loc[df['Country'] == country_name] = df.loc[df['Country'] == country_name].fillna(0)\n",
    "    return df.loc[df['Country'] == country_name]\n",
    "    \n",
    "def find_country_to_minimize_column(df, column_name):\n",
    "    return df[df[column_name] == df[column_name].min()][\"Country\"]\n",
    "def find_country_to_maximize_column(df, column_name):\n",
    "    return df[df[column_name] == df[column_name].max()][\"Country\"]\n",
    "\n",
    "def plot_countries(df, countries, filename):\n",
    "    x = countries\n",
    "    y = np.array([])\n",
    "    for country in countries:\n",
    "        index = df.index[df['Country'] == country].tolist()\n",
    "        val = df.loc[df[\"Country\"] == country].get_value(index[0], \"Happiness.Score\", takeable=False)\n",
    "        print(val)\n",
    "        y = np.append(y, [val])\n",
    "        print(y)\n",
    "    plt.title(\"Happiness Index by Country\")\n",
    "    plt.ylabel(\"Happiness Index\")\n",
    "    plt.xlabel(\"Country\")\n",
    "    plt.bar(x, y)\n",
    "    plt.savefig(filename, bbox_inches='tight')\n",
    "    "
   ]
  },
  {
   "cell_type": "code",
   "execution_count": 120,
   "metadata": {},
   "outputs": [
    {
     "name": "stdout",
     "output_type": "stream",
     "text": [
      "154    Central African Republic\n",
      "Name: Country, dtype: object\n",
      "0    Norway\n",
      "Name: Country, dtype: object\n"
     ]
    }
   ],
   "source": [
    "df = read_and_preprocess('happiness_data.csv', [], [])\n",
    "print(find_country_to_minimize_column(df, \"Happiness.Score\"))\n",
    "print(find_country_to_maximize_column(df, \"Happiness.Score\"))"
   ]
  },
  {
   "cell_type": "code",
   "execution_count": 121,
   "metadata": {},
   "outputs": [
    {
     "name": "stdout",
     "output_type": "stream",
     "text": [
      "7.537000179290769\n",
      "[7.53700018]\n",
      "6.993000030517581\n",
      "[7.53700018 6.99300003]\n"
     ]
    },
    {
     "name": "stderr",
     "output_type": "stream",
     "text": [
      "/Users/pavan/anaconda3/lib/python3.7/site-packages/ipykernel_launcher.py:21: FutureWarning: get_value is deprecated and will be removed in a future release. Please use .at[] or .iat[] accessors instead\n"
     ]
    },
    {
     "data": {
      "image/png": "[encoded data removed]",
      "text/plain": [
       "<Figure size 432x288 with 1 Axes>"
      ]
     },
     "metadata": {
      "needs_background": "light"
     },
     "output_type": "display_data"
    }
   ],
   "source": [
    "plot_countries(df, [\"Norway\", \"United States\"], \"1.png\")"
   ]
  },
  {
   "cell_type": "code",
   "execution_count": 122,
   "metadata": {},
   "outputs": [
    {
     "name": "stderr",
     "output_type": "stream",
     "text": [
      "/Users/pavan/anaconda3/lib/python3.7/site-packages/ipykernel_launcher.py:21: FutureWarning: get_value is deprecated and will be removed in a future release. Please use .at[] or .iat[] accessors instead\n"
     ]
    },
    {
     "name": "stdout",
     "output_type": "stream",
     "text": [
      "6.993000030517581\n",
      "[6.99300003]\n",
      "2.69300007820129\n",
      "[6.99300003 2.69300008]\n"
     ]
    },
    {
     "data": {
      "image/png": "[encoded data removed]",
      "text/plain": [
       "<Figure size 432x288 with 1 Axes>"
      ]
     },
     "metadata": {
      "needs_background": "light"
     },
     "output_type": "display_data"
    }
   ],
   "source": [
    "plot_countries(df, [\"United States\", \"Central African Republic\"], \"2.png\")"
   ]
  },
  {
   "cell_type": "code",
   "execution_count": 123,
   "metadata": {},
   "outputs": [
    {
     "name": "stderr",
     "output_type": "stream",
     "text": [
      "/Users/pavan/anaconda3/lib/python3.7/site-packages/ipykernel_launcher.py:21: FutureWarning: get_value is deprecated and will be removed in a future release. Please use .at[] or .iat[] accessors instead\n"
     ]
    },
    {
     "name": "stdout",
     "output_type": "stream",
     "text": [
      "6.993000030517581\n",
      "[6.99300003]\n",
      "4.31500005722046\n",
      "[6.99300003 4.31500006]\n",
      "5.2729997634887695\n",
      "[6.99300003 4.31500006 5.27299976]\n",
      "4.60799980163574\n",
      "[6.99300003 4.31500006 5.27299976 4.6079998 ]\n",
      "5.26200008392334\n",
      "[6.99300003 4.31500006 5.27299976 4.6079998  5.26200008]\n"
     ]
    },
    {
     "data": {
      "image/png": "[encoded data removed]",
      "text/plain": [
       "<Figure size 432x288 with 1 Axes>"
      ]
     },
     "metadata": {
      "needs_background": "light"
     },
     "output_type": "display_data"
    }
   ],
   "source": [
    "plot_countries(df, [\"United States\", \"India\", \"China\", \"Bangladesh\", \"Indonesia\"], \"3.png\")"
   ]
  },
  {
   "cell_type": "code",
   "execution_count": null,
   "metadata": {},
   "outputs": [],
   "source": []
  }
 ],
 "metadata": {
  "kernelspec": {
   "display_name": "Python 3",
   "language": "python",
   "name": "python3"
  },
  "language_info": {
   "codemirror_mode": {
    "name": "ipython",
    "version": 3
   },
   "file_extension": ".py",
   "mimetype": "text/x-python",
   "name": "python",
   "nbconvert_exporter": "python",
   "pygments_lexer": "ipython3",
   "version": "3.7.3"
  }
 },
 "nbformat": 4,
 "nbformat_minor": 2
}
